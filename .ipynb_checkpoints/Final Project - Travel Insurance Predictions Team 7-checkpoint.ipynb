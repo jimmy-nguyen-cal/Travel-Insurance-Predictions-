{
 "cells": [
  {
   "cell_type": "markdown",
   "id": "bfd82ea2",
   "metadata": {},
   "source": [
    "---- \n",
    "\n",
    "**ADS-505 Final Project** - Travel Insurance Predictions\n",
    "\n",
    "**Team:** #7\n",
    "\n",
    "**Team Members:** Jimmy Nguyen, Christopher Robinson, Nima Amin Taghavi\n",
    "\n",
    "**Date:** 09/20/2021\n",
    "\n",
    "**Programmin Language:** Python Code\n",
    "\n",
    "----"
   ]
  },
  {
   "cell_type": "markdown",
   "id": "29db01e0",
   "metadata": {
    "toc": true
   },
   "source": [
    "<h1>Table of Contents<span class=\"tocSkip\"></span></h1>\n",
    "<div class=\"toc\"><ul class=\"toc-item\"><li><span><a href=\"#Problem-statement\" data-toc-modified-id=\"Problem-statement-1\"><span class=\"toc-item-num\">1&nbsp;&nbsp;</span>Problem statement</a></span></li><li><span><a href=\"#Packages\" data-toc-modified-id=\"Packages-2\"><span class=\"toc-item-num\">2&nbsp;&nbsp;</span>Packages</a></span></li><li><span><a href=\"#Data-Set\" data-toc-modified-id=\"Data-Set-3\"><span class=\"toc-item-num\">3&nbsp;&nbsp;</span>Data Set</a></span></li><li><span><a href=\"#Exploratory-Data-Analysis-(EDA)\" data-toc-modified-id=\"Exploratory-Data-Analysis-(EDA)-4\"><span class=\"toc-item-num\">4&nbsp;&nbsp;</span>Exploratory Data Analysis (EDA)</a></span><ul class=\"toc-item\"><li><span><a href=\"#Examing-customers'-Age\" data-toc-modified-id=\"Examing-customers'-Age-4.1\"><span class=\"toc-item-num\">4.1&nbsp;&nbsp;</span>Examing customers' Age</a></span><ul class=\"toc-item\"><li><span><a href=\"#Age-Distribution\" data-toc-modified-id=\"Age-Distribution-4.1.1\"><span class=\"toc-item-num\">4.1.1&nbsp;&nbsp;</span>Age Distribution</a></span></li><li><span><a href=\"#Age-with-Target-Variable-Overlaid\" data-toc-modified-id=\"Age-with-Target-Variable-Overlaid-4.1.2\"><span class=\"toc-item-num\">4.1.2&nbsp;&nbsp;</span>Age with Target Variable Overlaid</a></span></li><li><span><a href=\"#Age-Groups-Comparison-(20s-vs.-30s)\" data-toc-modified-id=\"Age-Groups-Comparison-(20s-vs.-30s)-4.1.3\"><span class=\"toc-item-num\">4.1.3&nbsp;&nbsp;</span>Age Groups Comparison (20s vs. 30s)</a></span></li></ul></li></ul></li><li><span><a href=\"#Data-Wrangling-and-Pre-Processing\" data-toc-modified-id=\"Data-Wrangling-and-Pre-Processing-5\"><span class=\"toc-item-num\">5&nbsp;&nbsp;</span>Data Wrangling and Pre-Processing</a></span></li><li><span><a href=\"#Data-splitting\" data-toc-modified-id=\"Data-splitting-6\"><span class=\"toc-item-num\">6&nbsp;&nbsp;</span>Data splitting</a></span></li><li><span><a href=\"#Model-building-strategies\" data-toc-modified-id=\"Model-building-strategies-7\"><span class=\"toc-item-num\">7&nbsp;&nbsp;</span>Model building strategies</a></span></li><li><span><a href=\"#Model-performance-and-hyper-parameter-tuning\" data-toc-modified-id=\"Model-performance-and-hyper-parameter-tuning-8\"><span class=\"toc-item-num\">8&nbsp;&nbsp;</span>Model performance and hyper-parameter tuning</a></span></li><li><span><a href=\"#Results-and-final-model-selection\" data-toc-modified-id=\"Results-and-final-model-selection-9\"><span class=\"toc-item-num\">9&nbsp;&nbsp;</span>Results and final model selection</a></span></li><li><span><a href=\"#Discussion-and-conclusion\" data-toc-modified-id=\"Discussion-and-conclusion-10\"><span class=\"toc-item-num\">10&nbsp;&nbsp;</span>Discussion and conclusion</a></span></li></ul></div>"
   ]
  },
  {
   "cell_type": "markdown",
   "id": "18e35346",
   "metadata": {},
   "source": [
    "----\n",
    "\n",
    "# Problem statement "
   ]
  },
  {
   "cell_type": "markdown",
   "id": "17b7b97d",
   "metadata": {},
   "source": [
    "**About the Client** \n",
    "\n",
    "The client in this data mining project is a tour & travels company that is offering travel insurance package to their customers. This new insurance package also includes COVID-19 coverage for their flights. However, the client wants to know which customers based on their data base history are potential purchasers who may be interested in buying this new insurance package. Previously, the insurance package was offered to some of the customers in 2019 and data was collected from the performance and sales of the package during that period. The sample data given has close to 2000 customers from that period. The client is requesting information on which customer are most likely going to buy the travel insurance given their information such as employment type, income level, etc. \n",
    "\n",
    "\n",
    "**Business Problem** \n",
    "\n",
    "The client may use the solutions presented to them for customer-targeted advertising of the new travel insurance package. Also, data visualizations provided will help derive interesting insights about their potential buyers in order to optimize marketing strategies. \n",
    "\n",
    "\n",
    "**Data Mining Problem**\n",
    "\n",
    "- A supervised classification task, where the outcome variable of interest is _TravelInsurance_ that indicates whether the customer will buy the travel insurance. Performance metrics should take in consideration the positive class of buyers/purchasers.\n",
    "- Find out interesting patterns and trends for better customer segmentations through data exploration and visualizations.\n",
    "- An unsupervised task, where the goal is to cluster customers. "
   ]
  },
  {
   "cell_type": "markdown",
   "id": "83049503",
   "metadata": {},
   "source": [
    "---\n",
    "\n",
    "# Packages "
   ]
  },
  {
   "cell_type": "markdown",
   "id": "ee7271a8",
   "metadata": {},
   "source": [
    "**<font color='red'> Python code:</font>**"
   ]
  },
  {
   "cell_type": "code",
   "execution_count": 1,
   "id": "ff5b888c",
   "metadata": {
    "ExecuteTime": {
     "end_time": "2021-09-23T01:59:56.642948Z",
     "start_time": "2021-09-23T01:59:54.516935Z"
    }
   },
   "outputs": [],
   "source": [
    "from pathlib import Path\n",
    "import numpy as np\n",
    "import pandas as pd\n",
    "import matplotlib.pylab as plt\n",
    "import seaborn as sns\n",
    "sns.set_theme()\n",
    "plt.rcParams['figure.figsize'] = [10, 8]\n",
    "from sklearn.linear_model import LinearRegression, LogisticRegression, LogisticRegressionCV\n",
    "from sklearn.model_selection import train_test_split\n",
    "import statsmodels.api as sm\n",
    "import scikitplot as skplt\n",
    "from mord import LogisticIT\n",
    "from sklearn import preprocessing\n",
    "from sklearn.metrics import accuracy_score\n",
    "from sklearn.neighbors import KNeighborsClassifier\n",
    "from sklearn.tree import DecisionTreeRegressor\n",
    "from sklearn.model_selection import cross_val_score, GridSearchCV\n",
    "from dmba import regressionSummary, stepwise_selection\n",
    "from dmba import forward_selection, backward_elimination, exhaustive_search\n",
    "from dmba import classificationSummary, gainsChart, liftChart\n",
    "from dmba.metric import AIC_score\n",
    "from tabulate import tabulate\n",
    "import warnings\n",
    "\n",
    "warnings.filterwarnings('ignore')"
   ]
  },
  {
   "cell_type": "markdown",
   "id": "2e72ebc1",
   "metadata": {},
   "source": [
    "----\n",
    "# Data Set\n",
    "\n",
    "**Data Dictionary**\n",
    "\n",
    "1. **Age** - Age Of The Customer\n",
    "\n",
    "2. **Employment Type** - The Sector In Which Customer Is Employed\n",
    "\n",
    "3. **GraduateOrNot** - Whether The Customer Is College Graduate Or Not\n",
    "\n",
    "4. **AnnualIncome** - The Yearly Income Of The Customer In Indian Rupees[Rounded To Nearest 50 Thousand Rupees]\n",
    "\n",
    "5. **FamilyMembers** - Number Of Members In Customer's Family\n",
    "\n",
    "6. **ChronicDisease** - Whether The Customer Suffers From Any Major Disease Or Conditions Like Diabetes/High BP or Asthama,etc.\n",
    "\n",
    "7. **FrequentFlyer** - Derived Data Based On Customer's History Of Booking Air Tickets On Atleast 4 Different Instances In The Last 2 Years[2017-2019].\n",
    "\n",
    "8. **EverTravelledAbroad** - Has The Customer Ever Travelled To A Foreign Country[Not Necessarily Using The Company's Services]\n",
    "\n",
    "9. **TravelInsurance** - Did The Customer Buy Travel Insurance Package During Introductory Offering Held In The Year 2019."
   ]
  },
  {
   "cell_type": "markdown",
   "id": "7d7ab7a9",
   "metadata": {},
   "source": [
    "**<font color='red'> Python code:</font>**"
   ]
  },
  {
   "cell_type": "code",
   "execution_count": 2,
   "id": "3dcbc05f",
   "metadata": {
    "ExecuteTime": {
     "end_time": "2021-09-23T01:59:56.676255Z",
     "start_time": "2021-09-23T01:59:56.644360Z"
    }
   },
   "outputs": [
    {
     "data": {
      "text/html": [
       "<div>\n",
       "<style scoped>\n",
       "    .dataframe tbody tr th:only-of-type {\n",
       "        vertical-align: middle;\n",
       "    }\n",
       "\n",
       "    .dataframe tbody tr th {\n",
       "        vertical-align: top;\n",
       "    }\n",
       "\n",
       "    .dataframe thead th {\n",
       "        text-align: right;\n",
       "    }\n",
       "</style>\n",
       "<table border=\"1\" class=\"dataframe\">\n",
       "  <thead>\n",
       "    <tr style=\"text-align: right;\">\n",
       "      <th></th>\n",
       "      <th>Age</th>\n",
       "      <th>Employment Type</th>\n",
       "      <th>GraduateOrNot</th>\n",
       "      <th>AnnualIncome</th>\n",
       "      <th>FamilyMembers</th>\n",
       "      <th>ChronicDiseases</th>\n",
       "      <th>FrequentFlyer</th>\n",
       "      <th>EverTravelledAbroad</th>\n",
       "      <th>TravelInsurance</th>\n",
       "    </tr>\n",
       "  </thead>\n",
       "  <tbody>\n",
       "    <tr>\n",
       "      <th>0</th>\n",
       "      <td>31</td>\n",
       "      <td>Government Sector</td>\n",
       "      <td>Yes</td>\n",
       "      <td>400000</td>\n",
       "      <td>6</td>\n",
       "      <td>1</td>\n",
       "      <td>No</td>\n",
       "      <td>No</td>\n",
       "      <td>0</td>\n",
       "    </tr>\n",
       "    <tr>\n",
       "      <th>1</th>\n",
       "      <td>31</td>\n",
       "      <td>Private Sector/Self Employed</td>\n",
       "      <td>Yes</td>\n",
       "      <td>1250000</td>\n",
       "      <td>7</td>\n",
       "      <td>0</td>\n",
       "      <td>No</td>\n",
       "      <td>No</td>\n",
       "      <td>0</td>\n",
       "    </tr>\n",
       "    <tr>\n",
       "      <th>2</th>\n",
       "      <td>34</td>\n",
       "      <td>Private Sector/Self Employed</td>\n",
       "      <td>Yes</td>\n",
       "      <td>500000</td>\n",
       "      <td>4</td>\n",
       "      <td>1</td>\n",
       "      <td>No</td>\n",
       "      <td>No</td>\n",
       "      <td>1</td>\n",
       "    </tr>\n",
       "  </tbody>\n",
       "</table>\n",
       "</div>"
      ],
      "text/plain": [
       "   Age               Employment Type GraduateOrNot  AnnualIncome  \\\n",
       "0   31             Government Sector           Yes        400000   \n",
       "1   31  Private Sector/Self Employed           Yes       1250000   \n",
       "2   34  Private Sector/Self Employed           Yes        500000   \n",
       "\n",
       "   FamilyMembers  ChronicDiseases FrequentFlyer EverTravelledAbroad  \\\n",
       "0              6                1            No                  No   \n",
       "1              7                0            No                  No   \n",
       "2              4                1            No                  No   \n",
       "\n",
       "   TravelInsurance  \n",
       "0                0  \n",
       "1                0  \n",
       "2                1  "
      ]
     },
     "execution_count": 2,
     "metadata": {},
     "output_type": "execute_result"
    }
   ],
   "source": [
    "# Load data set\n",
    "df = pd.read_csv(\"Data/TravelInsurancePrediction.csv\")\n",
    "\n",
    "# First few rows of data set\n",
    "df.head(3)"
   ]
  },
  {
   "cell_type": "markdown",
   "id": "d9cf4372",
   "metadata": {},
   "source": [
    "----\n",
    "\n",
    "\n",
    "# Exploratory Data Analysis (EDA)\n",
    "\n",
    "- Graphical and non-graphical representations of relationships between the response variable and predictor variables\n"
   ]
  },
  {
   "cell_type": "markdown",
   "id": "5cb24315",
   "metadata": {},
   "source": [
    "## Examing customers' Age \n",
    "\n",
    "- Age distributions\n",
    "- Age with Target Variable Overlaid\n",
    "- Age Group Comparisons (20s vs. 30s)\n"
   ]
  },
  {
   "cell_type": "markdown",
   "id": "f09ddec5",
   "metadata": {},
   "source": [
    "### Age Distribution"
   ]
  },
  {
   "cell_type": "markdown",
   "id": "7753c975",
   "metadata": {},
   "source": [
    "**<font color='red'> Python code:</font>**"
   ]
  },
  {
   "cell_type": "code",
   "execution_count": 3,
   "id": "59235956",
   "metadata": {
    "ExecuteTime": {
     "end_time": "2021-09-23T01:59:56.688433Z",
     "start_time": "2021-09-23T01:59:56.677538Z"
    }
   },
   "outputs": [
    {
     "data": {
      "text/html": [
       "<div>\n",
       "<style scoped>\n",
       "    .dataframe tbody tr th:only-of-type {\n",
       "        vertical-align: middle;\n",
       "    }\n",
       "\n",
       "    .dataframe tbody tr th {\n",
       "        vertical-align: top;\n",
       "    }\n",
       "\n",
       "    .dataframe thead th {\n",
       "        text-align: right;\n",
       "    }\n",
       "</style>\n",
       "<table border=\"1\" class=\"dataframe\">\n",
       "  <thead>\n",
       "    <tr style=\"text-align: right;\">\n",
       "      <th></th>\n",
       "      <th>Age</th>\n",
       "    </tr>\n",
       "  </thead>\n",
       "  <tbody>\n",
       "    <tr>\n",
       "      <th>25</th>\n",
       "      <td>146</td>\n",
       "    </tr>\n",
       "    <tr>\n",
       "      <th>26</th>\n",
       "      <td>148</td>\n",
       "    </tr>\n",
       "    <tr>\n",
       "      <th>27</th>\n",
       "      <td>131</td>\n",
       "    </tr>\n",
       "    <tr>\n",
       "      <th>28</th>\n",
       "      <td>506</td>\n",
       "    </tr>\n",
       "    <tr>\n",
       "      <th>29</th>\n",
       "      <td>192</td>\n",
       "    </tr>\n",
       "    <tr>\n",
       "      <th>30</th>\n",
       "      <td>65</td>\n",
       "    </tr>\n",
       "    <tr>\n",
       "      <th>31</th>\n",
       "      <td>234</td>\n",
       "    </tr>\n",
       "    <tr>\n",
       "      <th>32</th>\n",
       "      <td>91</td>\n",
       "    </tr>\n",
       "    <tr>\n",
       "      <th>33</th>\n",
       "      <td>148</td>\n",
       "    </tr>\n",
       "    <tr>\n",
       "      <th>34</th>\n",
       "      <td>266</td>\n",
       "    </tr>\n",
       "    <tr>\n",
       "      <th>35</th>\n",
       "      <td>60</td>\n",
       "    </tr>\n",
       "  </tbody>\n",
       "</table>\n",
       "</div>"
      ],
      "text/plain": [
       "    Age\n",
       "25  146\n",
       "26  148\n",
       "27  131\n",
       "28  506\n",
       "29  192\n",
       "30   65\n",
       "31  234\n",
       "32   91\n",
       "33  148\n",
       "34  266\n",
       "35   60"
      ]
     },
     "execution_count": 3,
     "metadata": {},
     "output_type": "execute_result"
    }
   ],
   "source": [
    "# Get a range of customer ages\n",
    "age = pd.DataFrame({'Age': df['Age'].value_counts().sort_index()})\n",
    "age"
   ]
  },
  {
   "cell_type": "code",
   "execution_count": 4,
   "id": "5abc3813",
   "metadata": {
    "ExecuteTime": {
     "end_time": "2021-09-23T01:59:57.178880Z",
     "start_time": "2021-09-23T01:59:56.697616Z"
    }
   },
   "outputs": [
    {
     "data": {
      "image/png": "[encoded data removed]",
      "text/plain": [
       "<Figure size 720x576 with 1 Axes>"
      ]
     },
     "metadata": {},
     "output_type": "display_data"
    }
   ],
   "source": [
    "# Histogram of Age and set the range of bins from 25-35\n",
    "bins = np.arange(25, 36)\n",
    "ax = df['Age'].plot.hist(bins=bins)\n",
    "\n",
    "# add labels\n",
    "for p, label in zip(ax.patches, df['Age'].value_counts().sort_index()):\n",
    "    ax.annotate(label, (p.get_x()+0.37, p.get_height()+0.15))\n",
    "    \n",
    "# title and axis\n",
    "plt.title(\"Histogram of Customer Ages\")\n",
    "plt.ylabel('Number of Customers')\n",
    "plt.show()"
   ]
  },
  {
   "cell_type": "markdown",
   "id": "33be5154",
   "metadata": {},
   "source": [
    "### Age with Target Variable Overlaid"
   ]
  },
  {
   "cell_type": "code",
   "execution_count": 5,
   "id": "d5042435",
   "metadata": {
    "ExecuteTime": {
     "end_time": "2021-09-23T01:59:57.468904Z",
     "start_time": "2021-09-23T01:59:57.188679Z"
    }
   },
   "outputs": [
    {
     "data": {
      "image/png": "[encoded data removed]",
      "text/plain": [
       "<Figure size 720x576 with 1 Axes>"
      ]
     },
     "metadata": {},
     "output_type": "display_data"
    }
   ],
   "source": [
    "# Set up plot with response overlaid\n",
    "n, bins, patches = plt.hist([\n",
    "    df[df['TravelInsurance'] == 1]['Age'],\n",
    "    df[df['TravelInsurance'] == 0]['Age']\n",
    "],\n",
    "                            bins=10,\n",
    "                            stacked=True)\n",
    "\n",
    "# title and axis\n",
    "labels = [\"Purchase\", \"Non-purchase\"]\n",
    "plt.legend(labels)\n",
    "plt.title(\"Histogram of Customer Ages Overlaid with Purchase vs. Non-purchase\")\n",
    "plt.ylabel('Number of Customers')\n",
    "plt.show()"
   ]
  },
  {
   "cell_type": "code",
   "execution_count": 6,
   "id": "442a145f",
   "metadata": {
    "ExecuteTime": {
     "end_time": "2021-09-23T01:59:57.934020Z",
     "start_time": "2021-09-23T01:59:57.470691Z"
    }
   },
   "outputs": [
    {
     "data": {
      "image/png": "[encoded data removed]",
      "text/plain": [
       "<Figure size 720x576 with 1 Axes>"
      ]
     },
     "metadata": {},
     "output_type": "display_data"
    }
   ],
   "source": [
    "# Create normalized histogram for age groups by target overlay\n",
    "n_table = np.column_stack((n[0], n[1]))  # stack the tables\n",
    "n_norm = n_table / n_table.sum(axis=1)[:,\n",
    "                                       None]  # create normalized tables by sum\n",
    "ourbins = np.column_stack((bins[0:10], bins[1:11]))  # create table bins\n",
    "p1 = plt.bar(x=ourbins[:, 0],\n",
    "             height=n_norm[:, 0],\n",
    "             width=ourbins[:, 1] - ourbins[:, 0])  # first bar chart\n",
    "p2 = plt.bar(\n",
    "    x=ourbins[:, 0],\n",
    "    height=n_norm[:, 1],\n",
    "    width=ourbins[:, 1] - ourbins[:, 0],  # second bar chart\n",
    "    bottom=n_norm[:, 0])\n",
    "# Annotate legend, title with x and y labels\n",
    "plt.legend(['Target = 1', 'Target = 0'], bbox_to_anchor=(1, 1))\n",
    "plt.title('Normalized Histogram of Age with Target Variable Overlaid')\n",
    "plt.xlabel('Age')\n",
    "plt.ylabel('Proportion')\n",
    "plt.show()"
   ]
  },
  {
   "cell_type": "markdown",
   "id": "3456562d",
   "metadata": {},
   "source": [
    "### Age Groups Comparison (20s vs. 30s)"
   ]
  },
  {
   "cell_type": "code",
   "execution_count": 7,
   "id": "7d08af4c",
   "metadata": {
    "ExecuteTime": {
     "end_time": "2021-09-23T01:59:58.071244Z",
     "start_time": "2021-09-23T01:59:57.935511Z"
    }
   },
   "outputs": [
    {
     "data": {
      "image/png": "[encoded data removed]",
      "text/plain": [
       "<Figure size 720x576 with 1 Axes>"
      ]
     },
     "metadata": {},
     "output_type": "display_data"
    }
   ],
   "source": [
    "# Create function to categorize age groups\n",
    "def age_groups(x):\n",
    "    '''\n",
    "    x: This is a value from df['Age']\n",
    "    returns each as a new categorical value of 20s or 30s\n",
    "    '''\n",
    "    if x < 30:\n",
    "        return '20s'\n",
    "    else:\n",
    "        return '30s'\n",
    "\n",
    "\n",
    "# Apply age_groups function on each value\n",
    "age_groups = pd.DataFrame(\n",
    "    {'Age_Groups': df['Age'].apply(lambda x: age_groups(x))})\n",
    "\n",
    "# Graph count plot of age groups (20s vs. 30s)\n",
    "ax = sns.countplot(data=age_groups, x=\"Age_Groups\", order=['20s', '30s'])\n",
    "\n",
    "# add labels\n",
    "for p, label in zip(ax.patches, age_groups.value_counts()):\n",
    "    ax.annotate(label, (p.get_x()+0.37, p.get_height()+0.15))\n",
    "plt.title(\"Age Groups (20s vs. 30s)\")\n",
    "plt.ylabel('Number of Customers')\n",
    "plt.show()"
   ]
  },
  {
   "cell_type": "markdown",
   "id": "2296c6c5",
   "metadata": {},
   "source": [
    "-----\n",
    "# Data Wrangling and Pre-Processing\n",
    "\n",
    "\n",
    "- Handling of missing values, outliers, correlated features, etc."
   ]
  },
  {
   "cell_type": "markdown",
   "id": "ec1d4072",
   "metadata": {},
   "source": [
    "**<font color='red'> Python code:</font>**"
   ]
  },
  {
   "cell_type": "code",
   "execution_count": null,
   "id": "2fe95ace",
   "metadata": {},
   "outputs": [],
   "source": []
  },
  {
   "cell_type": "markdown",
   "id": "7064238c",
   "metadata": {
    "ExecuteTime": {
     "end_time": "2021-09-21T05:51:34.654809Z",
     "start_time": "2021-09-21T05:51:34.644029Z"
    }
   },
   "source": [
    "-----\n",
    "# Data splitting\n",
    "\n",
    "- Training, validation, and test sets\n"
   ]
  },
  {
   "cell_type": "markdown",
   "id": "a15e4022",
   "metadata": {},
   "source": [
    "**<font color='red'> Python code:</font>**"
   ]
  },
  {
   "cell_type": "code",
   "execution_count": null,
   "id": "74535865",
   "metadata": {},
   "outputs": [],
   "source": []
  },
  {
   "cell_type": "markdown",
   "id": "43f49ae9",
   "metadata": {},
   "source": [
    "----\n",
    "\n",
    "\n",
    "# Model building strategies\n",
    "\n",
    "- Describing main research questions and appropriate analytics methods\n"
   ]
  },
  {
   "cell_type": "markdown",
   "id": "55936661",
   "metadata": {},
   "source": [
    "**<font color='red'> Python code:</font>**"
   ]
  },
  {
   "cell_type": "code",
   "execution_count": null,
   "id": "353be82e",
   "metadata": {},
   "outputs": [],
   "source": []
  },
  {
   "cell_type": "markdown",
   "id": "a74b48b2",
   "metadata": {},
   "source": [
    "----\n",
    "# Model performance and hyper-parameter tuning\n",
    "\n",
    "- Model tuning, comparison, and evaluations"
   ]
  },
  {
   "cell_type": "markdown",
   "id": "493f7ab0",
   "metadata": {},
   "source": [
    "**<font color='red'> Python code:</font>**"
   ]
  },
  {
   "cell_type": "code",
   "execution_count": null,
   "id": "29bdef89",
   "metadata": {},
   "outputs": [],
   "source": []
  },
  {
   "cell_type": "markdown",
   "id": "e5e4a0a1",
   "metadata": {},
   "source": [
    "-----\n",
    "# Results and final model selection\n",
    "\n",
    "- Performance measures on test Set"
   ]
  },
  {
   "cell_type": "markdown",
   "id": "b06092a1",
   "metadata": {},
   "source": [
    "**<font color='red'> Python code:</font>**"
   ]
  },
  {
   "cell_type": "code",
   "execution_count": null,
   "id": "1af833d4",
   "metadata": {},
   "outputs": [],
   "source": []
  },
  {
   "cell_type": "markdown",
   "id": "8713b9ec",
   "metadata": {},
   "source": [
    "---------\n",
    "# Discussion and conclusion\n",
    "\n",
    "- Address the problem statement and suggestions that could go beyond the scope of the course"
   ]
  },
  {
   "cell_type": "code",
   "execution_count": null,
   "id": "49513760",
   "metadata": {},
   "outputs": [],
   "source": []
  }
 ],
 "metadata": {
  "kernelspec": {
   "display_name": "Python [conda env:ads505] *",
   "language": "python",
   "name": "conda-env-ads505-py"
  },
  "language_info": {
   "codemirror_mode": {
    "name": "ipython",
    "version": 3
   },
   "file_extension": ".py",
   "mimetype": "text/x-python",
   "name": "python",
   "nbconvert_exporter": "python",
   "pygments_lexer": "ipython3",
   "version": "3.9.6"
  },
  "toc": {
   "base_numbering": 1,
   "nav_menu": {},
   "number_sections": true,
   "sideBar": true,
   "skip_h1_title": false,
   "title_cell": "Table of Contents",
   "title_sidebar": "Contents",
   "toc_cell": true,
   "toc_position": {},
   "toc_section_display": true,
   "toc_window_display": true
  }
 },
 "nbformat": 4,
 "nbformat_minor": 5
}
